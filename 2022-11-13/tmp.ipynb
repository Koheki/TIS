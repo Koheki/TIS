{
 "cells": [
  {
   "cell_type": "code",
   "execution_count": 130,
   "metadata": {},
   "outputs": [],
   "source": [
    "import requests\n",
    "from bs4 import BeautifulSoup\n",
    "import re"
   ]
  },
  {
   "cell_type": "code",
   "execution_count": 131,
   "metadata": {},
   "outputs": [],
   "source": [
    "url = \"https://qiita.com/e869120/items/eb50fdaece12be418faa#2-3-分野別初中級者が解くべき過去問精選-100-問\"\n",
    "\n",
    "request = requests.get(url).text\n"
   ]
  },
  {
   "cell_type": "code",
   "execution_count": 151,
   "metadata": {},
   "outputs": [],
   "source": [
    "soup = BeautifulSoup(request,\"html.parser\")\n",
    "soup = soup.extract()"
   ]
  },
  {
   "cell_type": "code",
   "execution_count": 177,
   "metadata": {},
   "outputs": [],
   "source": [
    "# links = []\n",
    "\n",
    "# for i in soup.find(id=\"全探索全列挙\" ).parent.next_siblings:\n",
    "#     if i != '\\n' and i.name == 'p':\n",
    "#         l = i.findAll(\"strong\")\n",
    "#         print(l)\n",
    "#         for j in l:\n",
    "#             k = j.next_sibling\n",
    "#             while str(k) == '　':\n",
    "#                 k = k.next_sibling\n",
    "#             if k.name == 'a':\n",
    "#                 links.append([j.text, k.get('href')])\n",
    "#             else:\n",
    "#                 print(\"Something Wrong!\")\n",
    "#                 break"
   ]
  },
  {
   "cell_type": "code",
   "execution_count": 176,
   "metadata": {},
   "outputs": [],
   "source": [
    "with open(\"forLightBlue.csv\",\"w\") as f:\n",
    "    for l in links:\n",
    "        f.write(l[0]+\" , \"+l[1]+\"\\n\")"
   ]
  },
  {
   "cell_type": "code",
   "execution_count": 191,
   "metadata": {},
   "outputs": [
    {
     "data": {
      "text/plain": [
       "4"
      ]
     },
     "execution_count": 191,
     "metadata": {},
     "output_type": "execute_result"
    }
   ],
   "source": [
    "nums = [3,6,2,7,1]\n",
    "k = 6\n",
    "\n",
    "def f(nums,k):\n",
    "    if k not in nums:\n",
    "        return 0\n",
    "\n",
    "    def gcd(a,b):\n",
    "        if b == 0:\n",
    "            return a\n",
    "        return gcd(b,a%b)\n",
    "\n",
    "    def lcm(a,b):\n",
    "        return (a*b)/gcd(a,b)\n",
    "\n",
    "    res = nums.count(k)\n",
    "    n = len(nums)\n",
    "\n",
    "    for i in range(n):\n",
    "        l = nums[i]\n",
    "        for j in range(i+1,n):\n",
    "            l = lcm(l,nums[j])\n",
    "            if l == k:\n",
    "                res += 1\n",
    "            elif l < k:\n",
    "                continue\n",
    "            else:\n",
    "                break\n",
    "\n",
    "    return res\n",
    "\n",
    "f(nums,k)"
   ]
  },
  {
   "cell_type": "code",
   "execution_count": 180,
   "metadata": {},
   "outputs": [
    {
     "name": "stdout",
     "output_type": "stream",
     "text": [
      "3\n",
      "1\n"
     ]
    }
   ],
   "source": []
  },
  {
   "cell_type": "code",
   "execution_count": null,
   "metadata": {},
   "outputs": [],
   "source": []
  },
  {
   "cell_type": "code",
   "execution_count": null,
   "metadata": {},
   "outputs": [],
   "source": []
  }
 ],
 "metadata": {
  "kernelspec": {
   "display_name": "Python 3.10.6 64-bit",
   "language": "python",
   "name": "python3"
  },
  "language_info": {
   "codemirror_mode": {
    "name": "ipython",
    "version": 3
   },
   "file_extension": ".py",
   "mimetype": "text/x-python",
   "name": "python",
   "nbconvert_exporter": "python",
   "pygments_lexer": "ipython3",
   "version": "3.10.6"
  },
  "orig_nbformat": 4,
  "vscode": {
   "interpreter": {
    "hash": "aee8b7b246df8f9039afb4144a1f6fd8d2ca17a180786b69acc140d282b71a49"
   }
  }
 },
 "nbformat": 4,
 "nbformat_minor": 2
}
