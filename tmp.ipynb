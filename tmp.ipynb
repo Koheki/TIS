{
 "cells": [
  {
   "cell_type": "code",
   "execution_count": 30,
   "metadata": {},
   "outputs": [],
   "source": [
    "def f(s,t):\n",
    "    si,ti = 0,0\n",
    "    ls, lt = len(s),len(t)\n",
    "\n",
    "    while ti < lt and si < ls:\n",
    "        if s[si] == t[ti]:\n",
    "            si += 1\n",
    "        if si == ls:\n",
    "            return True\n",
    "        ti += 1\n",
    "    return False"
   ]
  },
  {
   "cell_type": "code",
   "execution_count": 34,
   "metadata": {},
   "outputs": [
    {
     "name": "stdout",
     "output_type": "stream",
     "text": [
      "False\n"
     ]
    }
   ],
   "source": [
    "s = \"ab\"\n",
    "t = \"caa\"\n",
    "print(f(s,t))"
   ]
  },
  {
   "cell_type": "code",
   "execution_count": 21,
   "metadata": {},
   "outputs": [],
   "source": [
    "def isort(A, i, N):\n",
    "    if i >= N:\n",
    "        return\n",
    "    v, j = A[i],i\n",
    "    while j > 0 and A[j-1] > v:\n",
    "        A[j] = A[j-1]\n",
    "        j -= 1\n",
    "    A[j] = v\n",
    "    isort(A,i+1,N)\n",
    "    return A"
   ]
  },
  {
   "cell_type": "code",
   "execution_count": 22,
   "metadata": {},
   "outputs": [],
   "source": [
    "A = [3,41,52,26,38,57,9,49]"
   ]
  },
  {
   "cell_type": "code",
   "execution_count": 26,
   "metadata": {},
   "outputs": [
    {
     "name": "stdout",
     "output_type": "stream",
     "text": [
      "False\n"
     ]
    }
   ],
   "source": [
    "A = isort(A,0,len(A))\n",
    "i,j = 0,len(A)-1\n",
    "S = 0\n",
    "while i < j:\n",
    "    s = A[i] + A[j]\n",
    "    if s == S:\n",
    "        print(True)\n",
    "        break\n",
    "    elif s < S:\n",
    "        i += 1\n",
    "    else:\n",
    "        j -= 1\n",
    "if i == j:\n",
    "    print(False)"
   ]
  },
  {
   "cell_type": "code",
   "execution_count": 3,
   "metadata": {},
   "outputs": [
    {
     "data": {
      "text/plain": [
       "3"
      ]
     },
     "execution_count": 3,
     "metadata": {},
     "output_type": "execute_result"
    }
   ],
   "source": [
    "32//10"
   ]
  },
  {
   "cell_type": "code",
   "execution_count": null,
   "metadata": {},
   "outputs": [],
   "source": []
  }
 ],
 "metadata": {
  "kernelspec": {
   "display_name": "Python 3.10.6 ('coding')",
   "language": "python",
   "name": "python3"
  },
  "language_info": {
   "codemirror_mode": {
    "name": "ipython",
    "version": 3
   },
   "file_extension": ".py",
   "mimetype": "text/x-python",
   "name": "python",
   "nbconvert_exporter": "python",
   "pygments_lexer": "ipython3",
   "version": "3.10.6"
  },
  "orig_nbformat": 4,
  "vscode": {
   "interpreter": {
    "hash": "706ed47e692c66cc34e3078df75e307b4f4ffe8be0138b3544d3a6a318e8a91f"
   }
  }
 },
 "nbformat": 4,
 "nbformat_minor": 2
}
