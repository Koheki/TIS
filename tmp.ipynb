{
 "cells": [
  {
   "cell_type": "code",
   "execution_count": 3,
   "metadata": {},
   "outputs": [
    {
     "name": "stdout",
     "output_type": "stream",
     "text": [
      "{1, 2, 3}\n"
     ]
    }
   ],
   "source": [
    "s = {1,2,3,5}\n",
    "s.discard(5)\n",
    "print(s)"
   ]
  },
  {
   "cell_type": "code",
   "execution_count": 69,
   "metadata": {},
   "outputs": [
    {
     "name": "stdout",
     "output_type": "stream",
     "text": [
      "3\n"
     ]
    }
   ],
   "source": [
    "def dfs(node,res):\n",
    "    res.add(node.val)\n",
    "    for n in node.children:\n",
    "        dfs(n,res)"
   ]
  },
  {
   "cell_type": "code",
   "execution_count": 73,
   "metadata": {},
   "outputs": [
    {
     "name": "stdout",
     "output_type": "stream",
     "text": [
      "2\n"
     ]
    }
   ],
   "source": [
    "p = None\n",
    "\n",
    "if p != None:\n",
    "    print(1)\n",
    "else:\n",
    "    print(2)"
   ]
  },
  {
   "cell_type": "code",
   "execution_count": 92,
   "metadata": {},
   "outputs": [
    {
     "name": "stdout",
     "output_type": "stream",
     "text": [
      "8772053214538.598\n"
     ]
    }
   ],
   "source": [
    "A = 1000000000000000000\n",
    "B = 100\n",
    "\n",
    "g = int((A/(2*B))**(2/3))+1\n",
    "print(B*(g-1)+A/(g**0.5))"
   ]
  },
  {
   "cell_type": "code",
   "execution_count": 101,
   "metadata": {},
   "outputs": [],
   "source": [
    "def f(grid):\n",
    "    n,m = len(grid),len(grid[0])\n",
    "    onesRow = [ g.count(1) for g in grid]\n",
    "    zerosRow = [g.count(0) for g in grid]\n",
    "    onesCol =  [0 for _ in range(m)]\n",
    "    zerosCol =  [0 for _ in range(m)]\n",
    "\n",
    "    for i in range(m):\n",
    "        one, zero = 0,0\n",
    "        for j in range(n):\n",
    "            if grid[j][i] == 1: one += 1\n",
    "            else: zero += 1\n",
    "        onesCol[i] = one\n",
    "        zerosCol[i] = zero\n",
    "\n",
    "    for i in range(n):\n",
    "        for j in range(m):\n",
    "            grid[i][j] = onesRow[i] + onesCol[j] - zerosRow[i] - zerosCol[j]\n",
    "\n",
    "    return grid"
   ]
  },
  {
   "cell_type": "code",
   "execution_count": 103,
   "metadata": {},
   "outputs": [
    {
     "name": "stdout",
     "output_type": "stream",
     "text": [
      "[[0, 0, 4], [0, 0, 4], [-2, -2, 2]]\n"
     ]
    }
   ],
   "source": [
    "grid = [[0,1,1],[1,0,1],[0,0,1]]\n",
    "print(f(grid))"
   ]
  },
  {
   "cell_type": "code",
   "execution_count": 116,
   "metadata": {},
   "outputs": [],
   "source": [
    "def f(customers):\n",
    "    N = len(customers)\n",
    "    j,avoidP = 0,0\n",
    "\n",
    "    p = 0\n",
    "    for i in range(N):\n",
    "        if customers[i] == 'Y':\n",
    "            p += 1\n",
    "        else:\n",
    "            p -= 1\n",
    "\n",
    "        if p > avoidP:\n",
    "            j = i+1\n",
    "            avoidP = p\n",
    "\n",
    "    return j"
   ]
  },
  {
   "cell_type": "code",
   "execution_count": 120,
   "metadata": {},
   "outputs": [
    {
     "name": "stdout",
     "output_type": "stream",
     "text": [
      "1\n"
     ]
    }
   ],
   "source": [
    "customers = \"Y\"\n",
    "print(f(customers))"
   ]
  },
  {
   "cell_type": "code",
   "execution_count": 121,
   "metadata": {},
   "outputs": [
    {
     "ename": "SyntaxError",
     "evalue": "incomplete input (472058553.py, line 1)",
     "output_type": "error",
     "traceback": [
      "\u001b[0;36m  Cell \u001b[0;32mIn [121], line 1\u001b[0;36m\u001b[0m\n\u001b[0;31m    def f(s):\u001b[0m\n\u001b[0m             ^\u001b[0m\n\u001b[0;31mSyntaxError\u001b[0m\u001b[0;31m:\u001b[0m incomplete input\n"
     ]
    }
   ],
   "source": [
    "def f(s):\n",
    "    mod = 10**9+7\n",
    "    res = 0\n",
    "    countdigit = {str(i):0 for i in range(10)}\n",
    "\n",
    "    for c in s:\n",
    "        countdigit[c] += 1\n",
    "\n",
    "    for c in s:\n",
    "        if countdigit[c] < 2:\n",
    "            continue\n",
    "\n",
    "        countdigit[c] -= 1\n"
   ]
  },
  {
   "cell_type": "code",
   "execution_count": 13,
   "metadata": {},
   "outputs": [
    {
     "data": {
      "text/plain": [
       "[(3, 9), (1, 2)]"
      ]
     },
     "execution_count": 13,
     "metadata": {},
     "output_type": "execute_result"
    }
   ],
   "source": [
    "t = {1:2,2:0,3:9,4:1}\n",
    "k =2\n",
    "\n",
    "sorted(t.items(),key=lambda x:-x[1])[:k]"
   ]
  },
  {
   "cell_type": "code",
   "execution_count": 19,
   "metadata": {},
   "outputs": [
    {
     "name": "stdout",
     "output_type": "stream",
     "text": [
      "Counter({1: 3, 3: 3, 4: 1, 6: 1, 7: 1, 9: 1})\n"
     ]
    }
   ],
   "source": [
    "from collections import Counter\n",
    "\n",
    "l = [1,1,1,4,6,7,3,3,3,9]\n",
    "c = Counter(l)\n",
    "\n",
    "print(c)"
   ]
  },
  {
   "cell_type": "code",
   "execution_count": 20,
   "metadata": {},
   "outputs": [],
   "source": [
    "import heapq\n",
    "heap = []\n",
    "heapq.heappush(heap,[1,0,0])\n",
    "\n",
    "i,j,k = heapq.heappop(heap)"
   ]
  },
  {
   "cell_type": "code",
   "execution_count": 5,
   "metadata": {},
   "outputs": [
    {
     "name": "stdout",
     "output_type": "stream",
     "text": [
      "1 2\n"
     ]
    }
   ],
   "source": [
    "a,b = (1,2)\n",
    "print(a,b)"
   ]
  },
  {
   "cell_type": "code",
   "execution_count": null,
   "metadata": {},
   "outputs": [],
   "source": []
  }
 ],
 "metadata": {
  "kernelspec": {
   "display_name": "Python 3.10.6 ('coding')",
   "language": "python",
   "name": "python3"
  },
  "language_info": {
   "codemirror_mode": {
    "name": "ipython",
    "version": 3
   },
   "file_extension": ".py",
   "mimetype": "text/x-python",
   "name": "python",
   "nbconvert_exporter": "python",
   "pygments_lexer": "ipython3",
   "version": "3.10.6"
  },
  "orig_nbformat": 4,
  "vscode": {
   "interpreter": {
    "hash": "706ed47e692c66cc34e3078df75e307b4f4ffe8be0138b3544d3a6a318e8a91f"
   }
  }
 },
 "nbformat": 4,
 "nbformat_minor": 2
}
